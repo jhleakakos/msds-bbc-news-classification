{
 "cells": [
  {
   "cell_type": "code",
   "id": "initial_id",
   "metadata": {
    "collapsed": true,
    "ExecuteTime": {
     "end_time": "2024-07-04T16:30:36.138725Z",
     "start_time": "2024-07-04T16:30:34.237304Z"
    }
   },
   "source": [
    "import numpy as np\n",
    "import pandas as pd\n",
    "from scipy.sparse import coo_matrix\n",
    "\n",
    "from sklearn.decomposition import NMF, TruncatedSVD\n",
    "from sklearn.preprocessing import MinMaxScaler"
   ],
   "outputs": [],
   "execution_count": 1
  },
  {
   "metadata": {},
   "cell_type": "markdown",
   "source": [
    "## Non-Negative Matrix Factorization for Movie Recommendations\n",
    "\n",
    "This appends to a previous week's assignment on recommender systems.\n",
    "\n",
    "We have four files:\n",
    "- rec_movies: one row per movie, its release year, and a number of columns for genre\n",
    "- rec_users: one row per user, their gender, their age, their occupation, and their zip code\n",
    "- rec_train: one row per user, movie, and rating\n",
    "- rec_test: same as rec_train\n"
   ],
   "id": "a8d0cf79081dd36e"
  },
  {
   "metadata": {},
   "cell_type": "markdown",
   "source": "## 1. Load Moving Ratings Data and Predict with Matrix Factorization\n",
   "id": "77eb76735069698e"
  },
  {
   "metadata": {
    "ExecuteTime": {
     "end_time": "2024-07-04T16:30:36.483334Z",
     "start_time": "2024-07-04T16:30:36.147078Z"
    }
   },
   "cell_type": "code",
   "source": [
    "users = pd.read_csv('data/rec_users.csv')\n",
    "movies = pd.read_csv('data/rec_movies.csv')\n",
    "train = pd.read_csv('data/rec_train.csv')\n",
    "test = pd.read_csv('data/rec_test.csv')"
   ],
   "id": "fb278ba43732dda6",
   "outputs": [],
   "execution_count": 2
  },
  {
   "metadata": {
    "ExecuteTime": {
     "end_time": "2024-07-04T16:30:38.108286Z",
     "start_time": "2024-07-04T16:30:36.485477Z"
    }
   },
   "cell_type": "code",
   "source": [
    "allusers = list(users['uID'])\n",
    "allmovies = list(movies['mID'])\n",
    "genres = list(movies.columns.drop(['mID', 'title', 'year']))\n",
    "mid2idx = dict(zip(movies.mID,list(range(len(movies)))))\n",
    "uid2idx = dict(zip(users.uID,list(range(len(users)))))\n",
    "\n",
    "# Turns the train set into a utility matrix with one row per user, one \n",
    "# column per movie, and each cell as that user's rating for that movie\n",
    "movie_ratings_utility_matrix = np.array(\n",
    "        coo_matrix(\n",
    "            (\n",
    "                list(train.rating)\n",
    "                , (\n",
    "                    [uid2idx[x] for x in train.uID]\n",
    "                    , [mid2idx[x] for x in train.mID]\n",
    "                )\n",
    "            ), shape=(\n",
    "                len(allusers)\n",
    "                , len(allmovies)\n",
    "            )\n",
    "        ).toarray()\n",
    "    )"
   ],
   "id": "c8554e1e0ea8a333",
   "outputs": [],
   "execution_count": 3
  },
  {
   "metadata": {
    "ExecuteTime": {
     "end_time": "2024-07-04T16:30:38.114176Z",
     "start_time": "2024-07-04T16:30:38.110043Z"
    }
   },
   "cell_type": "code",
   "source": [
    "def rmse(y_preds):\n",
    "    y_preds[np.isnan(y_preds)] = 3 #In case there is nan values in prediction, it will impute to 3.\n",
    "    y_true = np.array(test.rating)\n",
    "    return np.sqrt(((y_true - y_preds)**2).mean())"
   ],
   "id": "1eeccb9a0070961a",
   "outputs": [],
   "execution_count": 4
  },
  {
   "metadata": {},
   "cell_type": "markdown",
   "source": [
    "Not including solutions here, but tested and confirmed that \n",
    "- `predict_everything_to_3()`\n",
    "- `predict_to_user_average()`\n",
    "\n",
    "works. Just to make sure my refactoring here did not mess anything up.\n",
    "\n",
    "As a reminder, here is how each of the methods performed in the week three assignment.\n",
    "\n",
    "| Method                              | RMSE  |\n",
    "|:------------------------------------|:-----:|\n",
    "| Baseline, $Y_p$=3                   | 1.259 |\n",
    "| Baseline, $Y_p=\\mu_u$               | 1.035 |\n",
    "| Content based, item-item            | 1.013 |\n",
    "| Collaborative, cosine               | 1.026 |\n",
    "| Collaborative, jaccard, $M_r\\geq 3$ | 0.982 |\n",
    "| Collaborative, jaccard, $M_r\\geq 1$ | 0.991 |\n",
    "| Collaborative, jaccard, $M_r$       | 0.952 |"
   ],
   "id": "362e60444374df5a"
  },
  {
   "metadata": {
    "ExecuteTime": {
     "end_time": "2024-07-04T16:31:42.864044Z",
     "start_time": "2024-07-04T16:30:38.118477Z"
    }
   },
   "cell_type": "code",
   "source": [
    "nmf = NMF(\n",
    "    n_components=5\n",
    "    # , max_iter=500\n",
    "    , random_state=42\n",
    ")\n",
    "W = nmf.fit_transform(movie_ratings_utility_matrix)\n",
    "H = nmf.components_\n",
    "\n",
    "preds_nmf = W.dot(H)"
   ],
   "id": "dce0eb32a8f1a6eb",
   "outputs": [],
   "execution_count": 5
  },
  {
   "metadata": {
    "ExecuteTime": {
     "end_time": "2024-07-04T16:31:42.878666Z",
     "start_time": "2024-07-04T16:31:42.869535Z"
    }
   },
   "cell_type": "code",
   "source": [
    "print(f'W matrix shape: {W.shape}')\n",
    "print(f'H matrix shape: {H.shape}')\n",
    "print(f'Utility matrix shape: {movie_ratings_utility_matrix.shape}')"
   ],
   "id": "8f5a84aaf52a0dd6",
   "outputs": [
    {
     "name": "stdout",
     "output_type": "stream",
     "text": [
      "W matrix shape: (6040, 25)\n",
      "H matrix shape: (25, 3883)\n",
      "Utility matrix shape: (6040, 3883)\n"
     ]
    }
   ],
   "execution_count": 6
  },
  {
   "metadata": {
    "ExecuteTime": {
     "end_time": "2024-07-04T16:31:46.849291Z",
     "start_time": "2024-07-04T16:31:42.881386Z"
    }
   },
   "cell_type": "code",
   "source": [
    "svd = TruncatedSVD(\n",
    "    n_components=5\n",
    "    , random_state=42\n",
    ")\n",
    "\n",
    "U = svd.fit_transform(movie_ratings_utility_matrix)\n",
    "S = np.diag(svd.singular_values_)\n",
    "V = svd.components_\n",
    "\n",
    "preds_svd = U.dot(S.dot(V))\n"
   ],
   "id": "59865cf8a5ba08ac",
   "outputs": [],
   "execution_count": 7
  },
  {
   "metadata": {
    "ExecuteTime": {
     "end_time": "2024-07-04T16:31:46.857093Z",
     "start_time": "2024-07-04T16:31:46.851491Z"
    }
   },
   "cell_type": "code",
   "source": [
    "print(f'U matrix shape: {U.shape}')\n",
    "print(f'S matrix shape: {S.shape}')\n",
    "print(f'V matrix shape: {V.shape}')\n",
    "print(f'Utility matrix shape: {movie_ratings_utility_matrix.shape}')"
   ],
   "id": "1c3a0a72b293935a",
   "outputs": [
    {
     "name": "stdout",
     "output_type": "stream",
     "text": [
      "U matrix shape: (6040, 25)\n",
      "S matrix shape: (25, 25)\n",
      "V matrix shape: (25, 3883)\n",
      "Utility matrix shape: (6040, 3883)\n"
     ]
    }
   ],
   "execution_count": 8
  },
  {
   "metadata": {
    "ExecuteTime": {
     "end_time": "2024-07-04T16:31:48.063279Z",
     "start_time": "2024-07-04T16:31:46.859998Z"
    }
   },
   "cell_type": "code",
   "source": [
    "mms_nmf = MinMaxScaler((0, 5))\n",
    "preds_test_nmf = np.array([\n",
    "    preds_nmf[uid2idx[uid], mid2idx[mid]]\n",
    "    for uid, mid in np.array(test.drop('rating', axis=1))\n",
    "])\n",
    "preds_test_nmf_scaled = mms_nmf.fit_transform(preds_test_nmf.reshape(-1,1)).flatten()\n",
    "preds_test_nmf_scaled_rounded = np.round(preds_test_nmf_scaled)\n",
    "\n",
    "mms_svd = MinMaxScaler((0, 5))\n",
    "preds_test_svd = np.array([\n",
    "    preds_svd[uid2idx[uid], mid2idx[mid]]\n",
    "    for uid, mid in np.array(test.drop('rating', axis=1))\n",
    "])\n",
    "preds_test_svd_scaled = mms_svd.fit_transform(preds_test_svd.reshape(-1,1)).flatten()\n",
    "preds_test_svd_scaled_rounded = np.round(preds_test_svd_scaled)"
   ],
   "id": "ea1463a324ed8d63",
   "outputs": [],
   "execution_count": 9
  },
  {
   "metadata": {
    "ExecuteTime": {
     "end_time": "2024-07-04T16:31:48.094642Z",
     "start_time": "2024-07-04T16:31:48.065336Z"
    }
   },
   "cell_type": "code",
   "source": [
    "print(f'RMSE for NMF: {rmse(preds_test_nmf)}')\n",
    "print(f'RMSE for SVD: {rmse(preds_test_svd)}')\n",
    "print(f'RMSE for NMF scaled: {rmse(preds_test_nmf_scaled)}')\n",
    "print(f'RMSE for SVD scaled: {rmse(preds_test_svd_scaled)}')\n",
    "print(f'RMSE for NMF scaled and rounded: {rmse(preds_test_nmf_scaled_rounded)}')\n",
    "print(f'RMSE for SVD scaled and rounded: {rmse(preds_test_svd_scaled_rounded)}')"
   ],
   "id": "4708f220ff8d13c8",
   "outputs": [
    {
     "name": "stdout",
     "output_type": "stream",
     "text": [
      "RMSE for NMF: 2.8560903217001954\n",
      "RMSE for SVD: 1316.2845908671795\n",
      "RMSE for NMF scaled: 3.0760606462814613\n",
      "RMSE for SVD scaled: 3.1834367157206906\n",
      "RMSE for NMF scaled and rounded: 3.1341820543163386\n",
      "RMSE for SVD scaled and rounded: 3.2588719543608233\n"
     ]
    }
   ],
   "execution_count": 10
  },
  {
   "metadata": {},
   "cell_type": "markdown",
   "source": [
    "Here is an RMSE summary\n",
    "\n",
    "|       Algorithm        | Components: 5 | Components: 10 | Components: 15 | Components: 20 | Components: 25 & max_iter: 500 | Components: 50 & max_iter: 500 | Components: 100 & max_iter: 500 |\n",
    "|:----------------------:|:--------------|:---------------|:---------------|:---------------|:-------------------------------|:-------------------------------|:--------------------------------|\n",
    "|          NMF           | 2.991         | 2.912          | 2.873          | 2.862          | 2.856                          | 2.899                          | 3.008                           |\n",
    "|          SVD           | 1296.983      | 1315.453       | 1318.607       | 1318.425       | 1316.285                       | 1295.586                       | 1266.619                        |\n",
    "|       NMF Scaled       | 3.279         | 3.195          | 3.118          | 3.076          | 3.076                          | 3.076                          | 3.213                           |\n",
    "|       SVD Scaled       | 3.263         | 3.213          | 3.199          | 3.19           | 3.183                          | 3.167                          | 3.171                           |\n",
    "| NMF Scaled and Rounded | 3.362         | 3.266          | 3.181          | 3.134          | 3.134                          | 3.132                          | 3.273                           |\n",
    "| SVD Scaled and Rounded | 3.351         | 3.294          | 3.278          | 3.266          | 3.259                          | 3.241                          | 3.243                           |\n",
    "\n"
   ],
   "id": "727dd0fd805caa9f"
  },
  {
   "metadata": {},
   "cell_type": "markdown",
   "source": [
    "## 2. Why the Predictions Did Not Work\n",
    "\n",
    "- explain rmse\n",
    "- convergence issue and associated warning starting around 15 components for NMF and max_iter param\n",
    "- sparse data\n",
    "- out-of-range predictions without rescaling and rounding\n",
    "- independence of features"
   ],
   "id": "ca05d2e2b7a89a0a"
  },
  {
   "metadata": {},
   "cell_type": "markdown",
   "source": [
    "## References\n",
    "\n",
    "I needed some help figuring this out out. Here are some resources I used when getting up to speed on using matrix factorization for rating predictions.\n",
    "\n",
    "- https://medium.com/beek-tech/predicting-ratings-with-matrix-factorization-methods-cf6c68da775\n",
    "- https://medium.com/analytics-vidhya/matrix-factorization-made-easy-recommender-systems-7e4f50504477\n",
    "- https://medium.com/logicai/non-negative-matrix-factorization-for-recommendation-systems-985ca8d5c16c"
   ],
   "id": "43af5823660e6763"
  }
 ],
 "metadata": {
  "kernelspec": {
   "display_name": "Python 3",
   "language": "python",
   "name": "python3"
  },
  "language_info": {
   "codemirror_mode": {
    "name": "ipython",
    "version": 2
   },
   "file_extension": ".py",
   "mimetype": "text/x-python",
   "name": "python",
   "nbconvert_exporter": "python",
   "pygments_lexer": "ipython2",
   "version": "2.7.6"
  }
 },
 "nbformat": 4,
 "nbformat_minor": 5
}
